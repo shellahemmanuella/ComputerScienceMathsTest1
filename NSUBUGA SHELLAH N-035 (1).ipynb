{
 "cells": [
  {
   "cell_type": "markdown",
   "id": "bc7ee365",
   "metadata": {},
   "source": [
    "DATE: FRIDAY, 29TH JULY, 2022\n",
    "TEST1:SEMISTER 1\n",
    "NAME:NSUBUGA SHELLAH N\n",
    "REGISTRATION NUMBER:2022/DCSE/035/SS\n",
    "\n",
    "ANSWER NOTEBOOK"
   ]
  },
  {
   "cell_type": "code",
   "execution_count": null,
   "id": "f780eb20",
   "metadata": {},
   "outputs": [],
   "source": [
    "#importing libraries\n",
    "import numpy as np\n",
    "import random\n"
   ]
  },
  {
   "cell_type": "markdown",
   "id": "d6be4d76",
   "metadata": {},
   "source": [
    "#SECTION 1\n",
    "#qn 1\n",
    "A\n"
   ]
  },
  {
   "cell_type": "markdown",
   "id": "ae994b65",
   "metadata": {},
   "source": [
    "#qn 2\n",
    "C"
   ]
  },
  {
   "cell_type": "markdown",
   "id": "b88a0fe4",
   "metadata": {},
   "source": [
    "#qn 3\n",
    "A"
   ]
  },
  {
   "cell_type": "markdown",
   "id": "5f26ee4d",
   "metadata": {},
   "source": [
    "\n",
    "#QUESTION FOUR\n",
    "A"
   ]
  },
  {
   "cell_type": "markdown",
   "id": "98de2c69",
   "metadata": {},
   "source": [
    "#QUESTION FIVE\n",
    "C"
   ]
  },
  {
   "cell_type": "markdown",
   "id": "0fb4ce8b",
   "metadata": {},
   "source": [
    "#QUESTION SIX\n",
    "D"
   ]
  },
  {
   "cell_type": "markdown",
   "id": "edbc4015",
   "metadata": {},
   "source": [
    "#QUESTION SEVEN\n",
    "A"
   ]
  },
  {
   "cell_type": "markdown",
   "id": "921ba4e9",
   "metadata": {},
   "source": [
    "#QUESTION EIGHT\n",
    "A #they are independent event"
   ]
  },
  {
   "cell_type": "markdown",
   "id": "df120555",
   "metadata": {},
   "source": [
    "#QN NINE\n",
    "D"
   ]
  },
  {
   "cell_type": "markdown",
   "id": "4a921285",
   "metadata": {},
   "source": [
    "#QN TEN\n",
    "C\n",
    "#b\n",
    "3"
   ]
  },
  {
   "cell_type": "markdown",
   "id": "37482a4b",
   "metadata": {},
   "source": [
    "#section 2\n",
    "#qn 2\n",
    "#1\n",
    "0.5\n",
    "#2\n",
    "0.125\n",
    "#3\n",
    "5\n"
   ]
  },
  {
   "cell_type": "markdown",
   "id": "7af38a41",
   "metadata": {},
   "source": [
    "#qn 4\n",
    "import numpy as np\n",
    "x=np.array([25,2,5])#creating an ndarray\n",
    "z=np.shape(x)#obtaining the shape of the array\n",
    "print(z)\n",
    "z=np.transpose(x)#obtaining the transpose of the array\n",
    "print(z)\n",
    "z=np.linalg.norm(x, ord=2)#obtaining the norm of a ndarray\n",
    "print(z)\n"
   ]
  },
  {
   "cell_type": "markdown",
   "id": "88f6f073",
   "metadata": {},
   "source": [
    "#qn 5\n",
    "import numpy as np\n",
    "X = np.array([[25, 2], [5, 26], [3, 7]])\n",
    "z=np.shape(X)#generating shape\n",
    "print(z)\n",
    "z=np.transpose(X)#obtaining the transpose\n",
    "print(z)\n",
    "A = np.array([[3, 4], [5, 6], [7, 8]])\n",
    "z=np.dot(X,A)#obtaining the multiplication\n",
    "print(z)\n",
    "np.linalg.inv(z)#obtaining the inverse of the multiplied matrix result\n"
   ]
  },
  {
   "cell_type": "markdown",
   "id": "54ad0523",
   "metadata": {},
   "source": [
    "#qn 6\n",
    "import numpy as np\n",
    "y=np.array([[1,0.2,0.5],[0.2,1,0.8],[0.5,0.8,1]])#creating an array\n",
    "np.transpose(y)#getting the transpose\n",
    "np.linalg.det(y)#getting the determinant for linalg.library"
   ]
  },
  {
   "cell_type": "markdown",
   "id": "f1453ee1",
   "metadata": {},
   "source": [
    "#optional number\n",
    "#qn 7\n",
    "import random# importing the random library\n",
    "import numpy as np# importing numpy library\n",
    "j=np.random.randint(1,6)#creating random numbers\n",
    "k=j.mean()#obtaining the mean\n",
    "print(k)\n",
    "var=mean(j)#obtaining variance\n",
    "print(var)"
   ]
  }
 ],
 "metadata": {
  "kernelspec": {
   "display_name": "Python 3 (ipykernel)",
   "language": "python",
   "name": "python3"
  },
  "language_info": {
   "codemirror_mode": {
    "name": "ipython",
    "version": 3
   },
   "file_extension": ".py",
   "mimetype": "text/x-python",
   "name": "python",
   "nbconvert_exporter": "python",
   "pygments_lexer": "ipython3",
   "version": "3.9.12"
  }
 },
 "nbformat": 4,
 "nbformat_minor": 5
}
